{
 "cells": [
  {
   "cell_type": "markdown",
   "id": "577d3f32",
   "metadata": {},
   "source": [
    "# <font color = \"orange\" > HYPOTHESIS TESTING"
   ]
  },
  {
   "cell_type": "markdown",
   "id": "7ee56a65",
   "metadata": {},
   "source": [
    "### <font color = \"orange\" > Background:\n",
    "Bombay hospitality Ltd. operates a franchise model for producing exotic Norwegian dinners throughout New England. The operating cost for a franchise in a week (W) is given by the equation W = $1,000 + $5X, where X represents the number of units produced in a week. Recent feedback from restaurant owners suggests that this cost model may no longer be accurate, as their observed weekly operating costs are higher.\n"
   ]
  },
  {
   "cell_type": "markdown",
   "id": "25e79f2d",
   "metadata": {},
   "source": [
    "### <font color = \"orange\" > Objective:\n",
    "To investigate the restaurant owners' claim about the increase in weekly operating costs using hypothesis testing.\n",
    "Data Provided:\n",
    "\n",
    "•\tThe theoretical weekly operating cost model: W = $1,000 + $5X\n",
    "\n",
    "•\tSample of 25 restaurants with a mean weekly cost of Rs. 3,050\n",
    "\n",
    "•\tNumber of units produced in a week (X) follows a normal distribution with a mean (μ) of 600 units and a standard deviation (σ) of 25 units\n"
   ]
  },
  {
   "cell_type": "markdown",
   "id": "1dc1616d",
   "metadata": {},
   "source": [
    "# <font color = \"orange\">import libraries"
   ]
  },
  {
   "cell_type": "code",
   "execution_count": 1,
   "id": "53f63473",
   "metadata": {},
   "outputs": [],
   "source": [
    "import scipy.stats as stats\n",
    "import statsmodels.api as sm\n",
    "import numpy as np\n",
    "import pandas as pd\n",
    "import warnings\n",
    "warnings.filterwarnings(\"ignore\")\n",
    "from PIL import ImageGrab\n",
    "import matplotlib.pyplot as plt\n",
    "import seaborn as sns"
   ]
  },
  {
   "cell_type": "markdown",
   "id": "9fb95cd5",
   "metadata": {},
   "source": [
    "# <font color = \"orange\" >Given data"
   ]
  },
  {
   "cell_type": "code",
   "execution_count": 2,
   "id": "d17ef6c8",
   "metadata": {},
   "outputs": [],
   "source": [
    "sample_mean = 3050  # Rs.\n",
    "theoretical_mean = 1000 + 5 * 600  # Rs.\n",
    "population_std = 5 * 25  # Rs.\n",
    "sample_size = 25\n",
    "alpha = 0.05"
   ]
  },
  {
   "cell_type": "markdown",
   "id": "15f93eb1",
   "metadata": {},
   "source": [
    "# <font color = \"orange\"> Step 1:\n",
    "State the Hypotheses statement"
   ]
  },
  {
   "cell_type": "markdown",
   "id": "a5d40c9f",
   "metadata": {},
   "source": [
    "# <font color=\"orange\">Null Hypothesis (H0):\n",
    "The weekly operating costs are as per the theoretical model."
   ]
  },
  {
   "cell_type": "markdown",
   "id": "012685d8",
   "metadata": {},
   "source": [
    "# <font color = \"orange\" > Alternative Hypothesis (H1):\n",
    "    \n",
    "The weekly operating costs are higher than the theoretical model."
   ]
  },
  {
   "cell_type": "markdown",
   "id": "602861ce",
   "metadata": {},
   "source": [
    "# <font color = \"orange\" > Step 2: Calculate the Test Statistic"
   ]
  },
  {
   "cell_type": "code",
   "execution_count": 3,
   "id": "a43d9237",
   "metadata": {},
   "outputs": [],
   "source": [
    "# t = (sample_mean - theoretical_mean) / (population_std / sqrt(sample_size))\n",
    "test_statistic = (sample_mean - theoretical_mean) / (population_std / np.sqrt(sample_size))"
   ]
  },
  {
   "cell_type": "code",
   "execution_count": 6,
   "id": "c11e8faa",
   "metadata": {},
   "outputs": [
    {
     "name": "stdout",
     "output_type": "stream",
     "text": [
      "T test statistic: -38.0\n"
     ]
    }
   ],
   "source": [
    "print(f\"T test statistic: {test_statistic}\")"
   ]
  },
  {
   "cell_type": "markdown",
   "id": "0710a74e",
   "metadata": {},
   "source": [
    "# <font color = \"orange\" > Step 3: Determine the Critical Value"
   ]
  },
  {
   "cell_type": "code",
   "execution_count": 7,
   "id": "3820bfdf",
   "metadata": {},
   "outputs": [],
   "source": [
    "# For one-tailed test at alpha level of 5%\n",
    "critical_value = stats.norm.ppf(1 - alpha)"
   ]
  },
  {
   "cell_type": "code",
   "execution_count": 8,
   "id": "b56f0184",
   "metadata": {},
   "outputs": [
    {
     "name": "stdout",
     "output_type": "stream",
     "text": [
      "critical value: 1.6448536269514722\n"
     ]
    }
   ],
   "source": [
    "print(f\"critical value: {critical_value}\")"
   ]
  },
  {
   "cell_type": "markdown",
   "id": "c9f9d651",
   "metadata": {},
   "source": [
    "# <font color = \"orange\" > Step 4: Make a Decision"
   ]
  },
  {
   "cell_type": "code",
   "execution_count": 10,
   "id": "838f3dd9",
   "metadata": {},
   "outputs": [],
   "source": [
    "# If test_statistic > critical_value, reject null hypothesis\n",
    "# Otherwise, fail to reject null hypothesis\n",
    "if test_statistic > critical_value:\n",
    "    decision = \"Reject null hypothesis\"\n",
    "else:\n",
    "    decision = \"Fail to reject null hypothesis\""
   ]
  },
  {
   "cell_type": "code",
   "execution_count": 12,
   "id": "189aabe1",
   "metadata": {},
   "outputs": [
    {
     "name": "stdout",
     "output_type": "stream",
     "text": [
      "decision:  Fail to reject null hypothesis\n"
     ]
    }
   ],
   "source": [
    "print(\"decision: \",decision)"
   ]
  },
  {
   "cell_type": "markdown",
   "id": "46857511",
   "metadata": {},
   "source": [
    "# <font color = \"orange\" > Step 5: Conclusion"
   ]
  },
  {
   "cell_type": "code",
   "execution_count": 14,
   "id": "757e77c0",
   "metadata": {},
   "outputs": [],
   "source": [
    "# If we reject the null hypothesis, there is evidence to support the restaurant owners' claim\n",
    "# If we fail to reject the null hypothesis, there is no evidence to support the claim\n",
    "if decision == \"Reject null hypothesis\":\n",
    "    conclusion = \"There is strong evidence to support the restaurant owners' claim that the weekly operating costs are higher than the model suggests.\"\n",
    "else:\n",
    "    conclusion = \"There is no strong evidence to support the restaurant owners' claim that the weekly operating costs are higher than the model suggests.\""
   ]
  },
  {
   "cell_type": "code",
   "execution_count": 17,
   "id": "ff1778f9",
   "metadata": {},
   "outputs": [
    {
     "name": "stdout",
     "output_type": "stream",
     "text": [
      "conclusion: There is no strong evidence to support the restaurant owners' claim that the weekly operating costs are higher than the model suggests.\n"
     ]
    }
   ],
   "source": [
    "print(\"conclusion:\",conclusion)"
   ]
  },
  {
   "cell_type": "markdown",
   "id": "28c6a291",
   "metadata": {},
   "source": [
    "# <font color = \"orange\" > Output"
   ]
  },
  {
   "cell_type": "code",
   "execution_count": 15,
   "id": "d42f507f",
   "metadata": {},
   "outputs": [
    {
     "name": "stdout",
     "output_type": "stream",
     "text": [
      "Test Statistic: -38.0\n",
      "Critical Value: 1.6448536269514722\n",
      "Decision: Fail to reject null hypothesis\n",
      "Conclusion: There is no strong evidence to support the restaurant owners' claim that the weekly operating costs are higher than the model suggests.\n"
     ]
    }
   ],
   "source": [
    "print(\"Test Statistic:\", test_statistic)\n",
    "print(\"Critical Value:\", critical_value)\n",
    "print(\"Decision:\", decision)\n",
    "print(\"Conclusion:\", conclusion)"
   ]
  },
  {
   "cell_type": "code",
   "execution_count": null,
   "id": "7adcb0ad",
   "metadata": {},
   "outputs": [],
   "source": []
  },
  {
   "cell_type": "code",
   "execution_count": null,
   "id": "496ff76b",
   "metadata": {},
   "outputs": [],
   "source": []
  }
 ],
 "metadata": {
  "kernelspec": {
   "display_name": "Python 3 (ipykernel)",
   "language": "python",
   "name": "python3"
  },
  "language_info": {
   "codemirror_mode": {
    "name": "ipython",
    "version": 3
   },
   "file_extension": ".py",
   "mimetype": "text/x-python",
   "name": "python",
   "nbconvert_exporter": "python",
   "pygments_lexer": "ipython3",
   "version": "3.11.5"
  }
 },
 "nbformat": 4,
 "nbformat_minor": 5
}
